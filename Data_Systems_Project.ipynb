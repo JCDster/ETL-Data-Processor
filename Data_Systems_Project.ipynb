{
  "nbformat": 4,
  "nbformat_minor": 0,
  "metadata": {
    "colab": {
      "provenance": []
    },
    "kernelspec": {
      "name": "python3",
      "display_name": "Python 3"
    },
    "language_info": {
      "name": "python"
    }
  },
  "cells": [
    {
      "cell_type": "code",
      "execution_count": 159,
      "metadata": {
        "colab": {
          "base_uri": "https://localhost:8080/"
        },
        "id": "-dtrQHSzMpGl",
        "outputId": "bdc4bd19-6dac-4826-87f1-5f44fef875cd"
      },
      "outputs": [
        {
          "output_type": "stream",
          "name": "stdout",
          "text": [
            "          Nation  Year  Population\n",
            "0  United States  2021   329725481\n",
            "1  United States  2020   326569308\n",
            "2  United States  2019   324697795\n",
            "3  United States  2018   322903030\n",
            "4  United States  2017   321004407\n",
            "5  United States  2016   318558162\n",
            "6  United States  2015   316515021\n",
            "7  United States  2014   314107084\n",
            "8  United States  2013   311536594\n"
          ]
        }
      ],
      "source": [
        "import requests\n",
        "import pandas as pd\n",
        "\n",
        "\n",
        "\n",
        "# Make the request with the appropriate headers\n",
        "response = requests.get('https://datausa.io/api/data?drilldowns=Nation&measures=Population')\n",
        "\n",
        "# Check if the request was successful\n",
        "if response.status_code == 200:\n",
        "    # Parse and use the response data\n",
        "    data = response.json()\n",
        "\n",
        "    data_values = data['data']\n",
        "\n",
        "    # Convert the extracted data into a pandas DataFrame\n",
        "    df_pop = pd.DataFrame(data_values)\n",
        "\n",
        "    # Drop the specified columns\n",
        "    columns_to_drop = ['ID Nation', 'ID Year', 'Slug Nation']\n",
        "    df_pop = df_pop.drop(columns=columns_to_drop)\n",
        "\n",
        "    # Print the DataFrame\n",
        "    print(df_pop)\n",
        "else:\n",
        "    print(f'Error: {response.status_code} - {response.text}')\n",
        "\n"
      ]
    },
    {
      "cell_type": "code",
      "source": [
        "#Try to read the file\n",
        "try:\n",
        "    # Read the CSV file\n",
        "    df = pd.read_csv(\"API_GC.DOD.TOTL.GD.ZS_DS2_en_csv_v2_44281.csv\", skiprows=4)\n",
        "\n",
        "    # Filter rows for the United States\n",
        "    us_data = df[df['Country Name'] == 'United States']\n",
        "\n",
        "    # Melt the DataFrame to make years rows\n",
        "    us_data = us_data.melt(id_vars=['Country Name', 'Country Code', 'Indicator Name', 'Indicator Code'],\n",
        "                                   var_name='Year',\n",
        "                                   value_name='Value')\n",
        "\n",
        "    #clean the data\n",
        "    columns_to_drop2 = ['Country Code', 'Indicator Name', 'Indicator Code']\n",
        "    us_data = us_data.drop(columns=columns_to_drop2)\n",
        "    us_data = us_data.dropna(subset=['Value'])\n",
        "    # Print the transformed DataFrame\n",
        "    print(us_data)\n",
        "\n",
        "except Exception as e: #error handling\n",
        "    print(f\"Error reading CSV file: {e}\")\n"
      ],
      "metadata": {
        "colab": {
          "base_uri": "https://localhost:8080/"
        },
        "id": "DQ6BCl7UdXjY",
        "outputId": "15e77717-59f5-45f3-e394-a09c0aa8d89c"
      },
      "execution_count": 160,
      "outputs": [
        {
          "output_type": "stream",
          "name": "stdout",
          "text": [
            "     Country Name  Year       Value\n",
            "29  United States  1989   39.128400\n",
            "30  United States  1990   40.933944\n",
            "31  United States  1991   44.061597\n",
            "32  United States  1992   46.050144\n",
            "33  United States  1993   48.246140\n",
            "34  United States  1994   47.353482\n",
            "35  United States  1995   47.209535\n",
            "36  United States  1996   46.741769\n",
            "37  United States  1997   44.117470\n",
            "38  United States  1998   41.129149\n",
            "39  United States  1999   37.727278\n",
            "40  United States  2000   33.267655\n",
            "41  United States  2001   52.443676\n",
            "42  United States  2002   53.862514\n",
            "43  United States  2003   56.250405\n",
            "44  United States  2004   56.662286\n",
            "45  United States  2005   56.538848\n",
            "46  United States  2006   55.467336\n",
            "47  United States  2007   55.659926\n",
            "48  United States  2008   63.815130\n",
            "49  United States  2009   75.842048\n",
            "50  United States  2010   84.964411\n",
            "51  United States  2011   89.546817\n",
            "52  United States  2012   93.649262\n",
            "53  United States  2013   95.534688\n",
            "54  United States  2014   95.766699\n",
            "55  United States  2015   96.425228\n",
            "56  United States  2016   98.504102\n",
            "57  United States  2017   97.692936\n",
            "58  United States  2018   99.060976\n",
            "59  United States  2019  100.805042\n",
            "60  United States  2020  126.243301\n",
            "61  United States  2021  120.361476\n",
            "62  United States  2022  115.696632\n"
          ]
        }
      ]
    },
    {
      "cell_type": "markdown",
      "source": [
        "Couldn't find a good SQL source to derive the data I wanted so I replaced it with a second API call as you said we could do in Discord."
      ],
      "metadata": {
        "id": "Glquha2QM84R"
      }
    },
    {
      "cell_type": "code",
      "source": [
        "#SECOND API SOURCE AS I COULD NOT FIND A FREE SQL SOURCE!\n",
        "api_key = 'ADNJHTYMA0SOHPS0'\n",
        "\n",
        "# Construct the API endpoint URL\n",
        "base_url = 'https://www.alphavantage.co/query'\n",
        "params = {\n",
        "    'function': 'TIME_SERIES_DAILY',\n",
        "    'symbol': 'NDAQ',\n",
        "    'apikey': api_key,\n",
        "    'outputsize': 'full',\n",
        "    'datatype': 'json'\n",
        "}\n",
        "\n",
        "# Make the API request\n",
        "response = requests.get(base_url, params=params)\n",
        "\n",
        "# Check if the request was successful\n",
        "if response.status_code == 200:\n",
        "    data2 = response.json()\n",
        "\n",
        "    # Check if the response contains the expected data key\n",
        "    if 'Time Series (Daily)' in data2:\n",
        "        # Extract the time series data\n",
        "        time_series_data = data2['Time Series (Daily)']\n",
        "\n",
        "        # Convert the extracted data into a pandas DataFrame\n",
        "        df_nq = pd.DataFrame(time_series_data).T  # Transpose to have dates as rows\n",
        "\n",
        "        # Rename columns\n",
        "        df_nq = df_nq.rename(columns={\n",
        "            '1. open': 'Open',\n",
        "            '2. high': 'High',\n",
        "            '3. low': 'Low',\n",
        "            '4. close': 'Close',\n",
        "            '5. volume': 'Volume'\n",
        "        })\n",
        "        # Print the DataFrame\n",
        "        print(df_nq)\n",
        "    else:\n",
        "        print(\"Error: 'Time Series (Daily)' not found in API response\")\n",
        "else:\n",
        "    print(f\"Error: {response.status_code} - {response.text}\")\n"
      ],
      "metadata": {
        "colab": {
          "base_uri": "https://localhost:8080/"
        },
        "id": "9kdlVbCKM8V5",
        "outputId": "86eff3d8-2895-4f07-eaaa-581bb38dc63e"
      },
      "execution_count": 161,
      "outputs": [
        {
          "output_type": "stream",
          "name": "stdout",
          "text": [
            "               Open     High      Low    Close   Volume\n",
            "2024-04-05  61.0500  62.0600  60.9500  62.0400  1929386\n",
            "2024-04-04  62.0000  62.4000  60.8400  61.0600  2076159\n",
            "2024-04-03  61.4000  61.9900  61.3000  61.5800  2250746\n",
            "2024-04-02  61.7500  61.8100  60.8650  61.3300  3135949\n",
            "2024-04-01  62.9700  63.0400  62.2100  62.2900  2287324\n",
            "...             ...      ...      ...      ...      ...\n",
            "2002-07-08  14.0000  14.0000  14.0000  14.0000      300\n",
            "2002-07-05  15.0000  15.0000  15.0000  15.0000      500\n",
            "2002-07-03  14.0000  16.0000  14.0000  15.0000    10200\n",
            "2002-07-02  15.5000  16.5000  15.0000  15.1300     7000\n",
            "2002-07-01  15.0000  15.0000  15.0000  15.0000     1300\n",
            "\n",
            "[5479 rows x 5 columns]\n"
          ]
        }
      ]
    },
    {
      "cell_type": "code",
      "source": [
        "# Convert all columns to numeric type\n",
        "df_nq = df_nq.apply(pd.to_numeric, errors='coerce')\n",
        "\n",
        "# Convert the index to datetime\n",
        "df_nq.index = pd.to_datetime(df_nq.index)\n",
        "\n",
        "# Group by year and calculate yearly changes for each column\n",
        "df_nq_year = df_nq.resample('Y').last().pct_change()\n",
        "\n",
        "# Drop the first row (NaN values since there's no previous year)\n",
        "df_nq_year = df_nq_year.drop(df_nq_year.index[0])\n",
        "\n",
        "# Extract only the year from the index and reset index\n",
        "df_nq_year.reset_index(inplace=True)\n",
        "df_nq_year['Year'] = df_nq_year['index'].dt.strftime('%Y')\n",
        "df_nq_year.drop(columns=['index'], inplace=True)\n",
        "\n",
        "# Convert the values to decimal format\n",
        "df_nq_year.iloc[:, :5] *= 100\n",
        "\n",
        "# Print the resulting DataFrame\n",
        "print(df_nq_year)\n"
      ],
      "metadata": {
        "colab": {
          "base_uri": "https://localhost:8080/"
        },
        "id": "RnAm8u2Ku3iM",
        "outputId": "3b21a10b-7891-43cf-daee-4f27806bc76f"
      },
      "execution_count": 162,
      "outputs": [
        {
          "output_type": "stream",
          "name": "stdout",
          "text": [
            "          Open        High         Low       Close       Volume  Year\n",
            "0   -13.425926  -12.037037   -8.000000   -5.500000   -71.472393  2003\n",
            "1     9.625668   10.526316   10.326087    7.936508  1031.182796  2004\n",
            "2   245.365854  239.142857  243.842365  244.901961   627.756654  2005\n",
            "3   -11.016949  -11.345128  -12.464183  -12.478681   130.172414  2006\n",
            "4    56.984127   57.776370   61.243863   60.734005   -17.727840  2007\n",
            "5   -52.295248  -50.050191  -52.415753  -50.070721    29.721341  2008\n",
            "6   -14.158542  -18.408360  -15.443686  -19.789559   -11.442548  2009\n",
            "7    17.037037   17.733990   19.298688   19.727548   -47.259081  2010\n",
            "8     3.881857    3.347280    3.658279    3.286979   -27.743625  2011\n",
            "9     1.056052    1.315789    0.983272    1.958384    12.305026  2012\n",
            "10   60.610932   60.439560   60.064240   59.263705   -22.053872  2013\n",
            "11   22.322322   21.743462   21.032372   20.502513   -20.635349  2014\n",
            "12   20.233224   20.826514   21.313869   21.288574    83.223041  2015\n",
            "13   14.514208   14.188960   15.128073   15.385938   -32.083914  2016\n",
            "14   14.115899   14.427639   14.379573   14.466627    68.001436  2017\n",
            "15    5.364583    6.323701    5.156658    6.169465   -50.302276  2018\n",
            "16   32.278794   31.090798   32.414649   31.298271   -32.602105  2019\n",
            "17   21.449925   23.531052   21.395087   23.940243    65.616377  2020\n",
            "18   60.769231   59.057726   61.105962   58.211541   -23.833884  2021\n",
            "19  -70.622010  -70.871581  -70.882071  -70.787105   204.996714  2022\n",
            "20   -5.211726   -5.222547   -4.856767   -5.232274    28.292942  2023\n",
            "21    4.896907    6.367298    5.468074    6.707946    26.595479  2024\n"
          ]
        }
      ]
    },
    {
      "cell_type": "code",
      "source": [
        "# Convert 'Year' column in df_pop to int64\n",
        "df_pop['Year'] = df_pop['Year'].astype(int)\n",
        "us_data['Year'] = us_data['Year'].astype(int)\n",
        "df_nq_year['Year'] = df_nq_year['Year'].astype(int)\n",
        "\n",
        "\n",
        "years_df = pd.DataFrame({'Year': range(2013, 2022)})\n",
        "\n",
        "# Merge the new DataFrame with 'df_pop' to get corresponding population data\n",
        "merged_df = pd.merge(years_df, df_pop, on='Year', how='left')\n",
        "\n",
        "# Merge 'us_data' with 'merged_df' to add debt percent values\n",
        "merged_df = pd.merge(merged_df, us_data, on=['Year'], how='left')\n",
        "\n",
        "# Merge 'df_nq_year' with 'merged_df' to add debt percent values\n",
        "merged_df = pd.merge(merged_df, df_nq_year, on=['Year'], how='left')\n",
        "\n",
        "# Rename the 'Value' column to 'Debt_Percent'\n",
        "merged_df = merged_df.rename(columns={'Value': 'US Debt Percent'})\n",
        "\n",
        "columns_to_drop3 = ['Country Name', 'High', 'Low', 'Volume']\n",
        "merged_df = merged_df.drop(columns=columns_to_drop3)\n",
        "\n",
        "merged_df = merged_df.rename(columns={'Open': 'Open Nasdaq % Change'})\n",
        "merged_df = merged_df.rename(columns={'Close': 'Close Nasdaq % Change'})\n",
        "\n",
        "# Print the resulting DataFrame\n",
        "print(merged_df)\n"
      ],
      "metadata": {
        "colab": {
          "base_uri": "https://localhost:8080/"
        },
        "id": "C4zQU_CX1QtI",
        "outputId": "edc4b4be-81ac-4d99-e367-bb1423d0a276"
      },
      "execution_count": 163,
      "outputs": [
        {
          "output_type": "stream",
          "name": "stdout",
          "text": [
            "   Year         Nation  Population  US Debt Percent  Open Nasdaq % Change  \\\n",
            "0  2013  United States   311536594        95.534688             60.610932   \n",
            "1  2014  United States   314107084        95.766699             22.322322   \n",
            "2  2015  United States   316515021        96.425228             20.233224   \n",
            "3  2016  United States   318558162        98.504102             14.514208   \n",
            "4  2017  United States   321004407        97.692936             14.115899   \n",
            "5  2018  United States   322903030        99.060976              5.364583   \n",
            "6  2019  United States   324697795       100.805042             32.278794   \n",
            "7  2020  United States   326569308       126.243301             21.449925   \n",
            "8  2021  United States   329725481       120.361476             60.769231   \n",
            "\n",
            "   Close Nasdaq % Change  \n",
            "0              59.263705  \n",
            "1              20.502513  \n",
            "2              21.288574  \n",
            "3              15.385938  \n",
            "4              14.466627  \n",
            "5               6.169465  \n",
            "6              31.298271  \n",
            "7              23.940243  \n",
            "8              58.211541  \n"
          ]
        }
      ]
    },
    {
      "cell_type": "code",
      "source": [
        "import sqlite3\n",
        "# Create a SQLite database connection\n",
        "conn = sqlite3.connect('project_database.db')\n",
        "cursor = conn.cursor()\n",
        "\n",
        "#drop tables if they exist\n",
        "cursor.execute(\"DROP TABLE IF EXISTS population\")\n",
        "cursor.execute(\"DROP TABLE IF EXISTS stock_data\")\n",
        "cursor.execute(\"DROP TABLE IF EXISTS debt_data\")\n",
        "\n",
        "#rename in order to to_sql to work later on\n",
        "us_data.rename(columns={'Country Name': 'Country_Name'}, inplace=True)\n",
        "\n",
        "#generate the tables\n",
        "cursor.execute('''CREATE TABLE population(\n",
        "                  Population INTEGER PRIMARY KEY,\n",
        "                  Nation TEXT,\n",
        "                  Year INTEGER\n",
        "                )''')\n",
        "\n",
        "cursor.execute('''CREATE TABLE stock_data(\n",
        "                  Open FLOAT PRIMARY KEY,\n",
        "                  Year INTEGER,\n",
        "                  Close FLOAT,\n",
        "                  High FLOAT,\n",
        "                  Low FLOAT,\n",
        "                  Volume FLOAT\n",
        "                )''')\n",
        "\n",
        "cursor.execute('''CREATE TABLE debt_data(\n",
        "                  Value FLOAT PRIMARY KEY,\n",
        "                  Country_Name TEXT,\n",
        "                  Year INTEGER\n",
        "                )''')\n",
        "\n",
        "# Convert DataFrames to SQL tables (assuming these DataFrames are defined elsewhere in your code)\n",
        "df_pop.to_sql('population', conn, index=False, if_exists='append')\n",
        "df_nq_year.to_sql('stock_data', conn, index=False, if_exists='append')\n",
        "us_data.to_sql('debt_data', conn, index=False, if_exists='append')\n",
        "\n",
        "\n",
        "#create the other tables from scratch\n",
        "df_nq.to_sql('stock_daily_data', conn, index=False, if_exists='replace')\n",
        "merged_df.to_sql('Combined_data', conn, index=False, if_exists='replace')\n",
        "\n",
        "cursor.execute(\"DROP TABLE IF EXISTS Combined_with_fk\")\n",
        "\n",
        "# Enable foreign key constraints\n",
        "cursor.execute(\"PRAGMA foreign_keys=ON\")\n",
        "\n",
        "# Define the schema for Combined_with_fk table\n",
        "cursor.execute('''CREATE TABLE Combined_with_fk(\n",
        "                  Year INTEGER PRIMARY KEY,\n",
        "                  Population INTEGER,\n",
        "                  OpenNasdaq FLOAT,\n",
        "                  Debt FLOAT,\n",
        "                  FOREIGN KEY(Population) REFERENCES population(Population),\n",
        "                  FOREIGN KEY(OpenNasdaq) REFERENCES stock_data(Open),\n",
        "                  FOREIGN KEY(Debt) REFERENCES debt_data(Value)\n",
        "                )''')\n",
        "\n",
        "# Populate Combined_with_fk\n",
        "for year in range(2013, 2023):\n",
        "    cursor.execute('''\n",
        "        INSERT INTO Combined_with_fk (Year, Population, OpenNasdaq, Debt)\n",
        "        SELECT ?, P.Population, S.Open, D.Value\n",
        "        FROM population P\n",
        "        LEFT JOIN stock_data S ON P.Year = S.Year\n",
        "        LEFT JOIN debt_data D ON P.Year = D.Year\n",
        "        WHERE P.Year = ?\n",
        "    ''', (year, year))\n",
        "\n",
        "# Commit the changes and close the connection\n",
        "conn.commit()\n",
        "conn.close()\n"
      ],
      "metadata": {
        "id": "7sZ8skAAjpii"
      },
      "execution_count": 164,
      "outputs": []
    },
    {
      "cell_type": "code",
      "source": [
        "import sqlite3\n",
        "\n",
        "# Create a SQLite database connection\n",
        "conn = sqlite3.connect('project_database.db')\n",
        "cursor = conn.cursor()\n",
        "\n",
        "# Fetch table names excluding 'stock_daily_data'\n",
        "cursor.execute(\"SELECT name FROM sqlite_master WHERE type='table' AND name != 'stock_daily_data';\")\n",
        "table_names = cursor.fetchall()\n",
        "\n",
        "# Iterate over table names and display data\n",
        "for table in table_names:\n",
        "    table_name = table[0]\n",
        "    print(f\"Table: {table_name}\")\n",
        "    # Fetch and display data from the table\n",
        "    cursor.execute(f\"SELECT * FROM {table_name};\")\n",
        "    data = cursor.fetchall()\n",
        "    for row in data:\n",
        "        print(row)\n",
        "    print()\n",
        "\n",
        "# Close the connection\n",
        "conn.close()\n"
      ],
      "metadata": {
        "id": "vvkpso1xzENx",
        "colab": {
          "base_uri": "https://localhost:8080/"
        },
        "outputId": "1552972f-0a8f-459f-fcc1-21c716f34028"
      },
      "execution_count": 165,
      "outputs": [
        {
          "output_type": "stream",
          "name": "stdout",
          "text": [
            "Table: Year\n",
            "(2013,)\n",
            "(2014,)\n",
            "(2015,)\n",
            "(2016,)\n",
            "(2017,)\n",
            "(2018,)\n",
            "(2019,)\n",
            "(2020,)\n",
            "(2021,)\n",
            "\n",
            "Table: population\n",
            "(311536594, 'United States', 2013)\n",
            "(314107084, 'United States', 2014)\n",
            "(316515021, 'United States', 2015)\n",
            "(318558162, 'United States', 2016)\n",
            "(321004407, 'United States', 2017)\n",
            "(322903030, 'United States', 2018)\n",
            "(324697795, 'United States', 2019)\n",
            "(326569308, 'United States', 2020)\n",
            "(329725481, 'United States', 2021)\n",
            "\n",
            "Table: stock_data\n",
            "(-13.425925925925931, 2003, -5.500000000000005, -12.037037037037045, -8.000000000000007, -71.47239263803681)\n",
            "(9.625668449197855, 2004, 7.9365079365079305, 10.526315789473696, 10.326086956521753, 1031.1827956989248)\n",
            "(245.3658536585366, 2005, 244.90196078431376, 239.14285714285714, 243.84236453201967, 627.7566539923955)\n",
            "(-11.016949152542367, 2006, -12.478681068789088, -11.345127773097442, -12.464183381088823, 130.17241379310346)\n",
            "(56.984126984127, 2007, 60.734004546930834, 57.77636997149194, 61.24386252045826, -17.72784019975031)\n",
            "(-52.29524772497472, 2008, -50.07072135785007, -50.050190724754074, -52.41575314656922, 29.721340874603385)\n",
            "(-14.158541754980924, 2009, -19.789558883043302, -18.408360128617364, -15.44368600682594, -11.44254798745148)\n",
            "(17.037037037037027, 2010, 19.72754793138245, 17.73399014778323, 19.298688193743697, -47.259081356949864)\n",
            "(3.881856540084394, 2011, 3.286978508217442, 3.347280334728042, 3.6582787058574873, -27.743624772313304)\n",
            "(1.0560519902518273, 2012, 1.9583843329253225, 1.3157894736842035, 0.9832721338229211, 12.305025996533804)\n",
            "(60.61093247588425, 2013, 59.26370548219288, 60.439560439560445, 60.06423982869378, -22.05387205387206)\n",
            "(22.322322322322318, 2014, 20.50251256281408, 21.743462017434624, 21.03237205780275, -20.63534917206623)\n",
            "(20.233224222585932, 2015, 21.288573811509593, 20.826513911620292, 21.313868613138688, 83.22304116112937)\n",
            "(14.514207929215583, 2016, 15.38593776860926, 14.188960379275306, 15.128072889805733, -32.08391404120695)\n",
            "(14.115898959881124, 2017, 14.466626936829542, 14.42763938315541, 14.379572943108855, 68.00143609818683)\n",
            "(5.364583333333339, 2018, 6.169465052713785, 6.323700920046638, 5.156657963446487, -50.30227621092187)\n",
            "(32.27879387048937, 2019, 31.298271423317402, 31.090798293723342, 32.41464928615767, -32.60210462900511)\n",
            "(21.449925261584447, 2020, 23.9402427637722, 23.531052435849766, 21.395087192949557, 65.61637713264157)\n",
            "(60.769230769230774, 2021, 58.211541359047736, 59.05772559644766, 61.10596231078161, -23.833883807836486)\n",
            "(-70.62200956937798, 2022, -70.78710537593447, -70.87158133812814, -70.88207094918504, 204.9967137018095)\n",
            "(-5.2117263843648125, 2023, -5.232273838630808, -5.222547108512021, -4.856766545933489, 28.292941622122147)\n",
            "(4.896907216494828, 2024, 6.707946336429305, 6.367297968977637, 5.4680740612562895, 26.595479431201994)\n",
            "\n",
            "Table: debt_data\n",
            "(39.128400199944, 'United States', 1989)\n",
            "(40.933943570707, 'United States', 1990)\n",
            "(44.0615972806026, 'United States', 1991)\n",
            "(46.0501444176036, 'United States', 1992)\n",
            "(48.2461403335599, 'United States', 1993)\n",
            "(47.3534821707435, 'United States', 1994)\n",
            "(47.2095352870886, 'United States', 1995)\n",
            "(46.7417685500108, 'United States', 1996)\n",
            "(44.1174698332784, 'United States', 1997)\n",
            "(41.1291489790385, 'United States', 1998)\n",
            "(37.7272782686058, 'United States', 1999)\n",
            "(33.2676548646821, 'United States', 2000)\n",
            "(52.4436763286348, 'United States', 2001)\n",
            "(53.8625140415158, 'United States', 2002)\n",
            "(56.2504045927814, 'United States', 2003)\n",
            "(56.6622864008834, 'United States', 2004)\n",
            "(56.5388479068386, 'United States', 2005)\n",
            "(55.4673357624473, 'United States', 2006)\n",
            "(55.6599261078117, 'United States', 2007)\n",
            "(63.8151298190915, 'United States', 2008)\n",
            "(75.8420482989664, 'United States', 2009)\n",
            "(84.9644109904045, 'United States', 2010)\n",
            "(89.5468170333317, 'United States', 2011)\n",
            "(93.6492617595668, 'United States', 2012)\n",
            "(95.5346882113219, 'United States', 2013)\n",
            "(95.7666986884038, 'United States', 2014)\n",
            "(96.4252279492666, 'United States', 2015)\n",
            "(98.5041017174837, 'United States', 2016)\n",
            "(97.6929363628875, 'United States', 2017)\n",
            "(99.0609761173397, 'United States', 2018)\n",
            "(100.805042202199, 'United States', 2019)\n",
            "(126.243300547564, 'United States', 2020)\n",
            "(120.36147560281, 'United States', 2021)\n",
            "(115.696631642669, 'United States', 2022)\n",
            "\n",
            "Table: Combined_data\n",
            "(2013, 'United States', 311536594, 95.5346882113219, 60.61093247588425, 59.26370548219288)\n",
            "(2014, 'United States', 314107084, 95.7666986884038, 22.322322322322318, 20.50251256281408)\n",
            "(2015, 'United States', 316515021, 96.4252279492666, 20.233224222585932, 21.288573811509593)\n",
            "(2016, 'United States', 318558162, 98.5041017174837, 14.514207929215583, 15.38593776860926)\n",
            "(2017, 'United States', 321004407, 97.6929363628875, 14.115898959881124, 14.466626936829542)\n",
            "(2018, 'United States', 322903030, 99.0609761173397, 5.364583333333339, 6.169465052713785)\n",
            "(2019, 'United States', 324697795, 100.805042202199, 32.27879387048937, 31.298271423317402)\n",
            "(2020, 'United States', 326569308, 126.243300547564, 21.449925261584447, 23.9402427637722)\n",
            "(2021, 'United States', 329725481, 120.36147560281, 60.769230769230774, 58.211541359047736)\n",
            "\n",
            "Table: Combined_with_fk\n",
            "(2013, 311536594, 60.61093247588425, 95.5346882113219)\n",
            "(2014, 314107084, 22.322322322322318, 95.7666986884038)\n",
            "(2015, 316515021, 20.233224222585932, 96.4252279492666)\n",
            "(2016, 318558162, 14.514207929215583, 98.5041017174837)\n",
            "(2017, 321004407, 14.115898959881124, 97.6929363628875)\n",
            "(2018, 322903030, 5.364583333333339, 99.0609761173397)\n",
            "(2019, 324697795, 32.27879387048937, 100.805042202199)\n",
            "(2020, 326569308, 21.449925261584447, 126.243300547564)\n",
            "(2021, 329725481, 60.769230769230774, 120.36147560281)\n",
            "\n"
          ]
        }
      ]
    },
    {
      "cell_type": "code",
      "source": [
        "conn = sqlite3.connect('project_database.db')\n",
        "cursor = conn.cursor()\n",
        "\n",
        "#query the database to find the name of the contry (USA), population and debt percentage for an individual year\n",
        "cursor.execute(\"SELECT p.Nation, p.Population, d.Value AS Debt FROM population p INNER JOIN debt_data d ON p.Year = d.Year WHERE p.Year = 2019;\")\n",
        "\n",
        "#print this result\n",
        "results = cursor.fetchall()\n",
        "for row in results:\n",
        "    print(row)\n",
        "# Close the connection\n",
        "conn.close()"
      ],
      "metadata": {
        "colab": {
          "base_uri": "https://localhost:8080/"
        },
        "id": "4MHudSDv9SuV",
        "outputId": "6fd6fc0f-2e22-4701-dc5c-e2235eb9236a"
      },
      "execution_count": 166,
      "outputs": [
        {
          "output_type": "stream",
          "name": "stdout",
          "text": [
            "('United States', 324697795, 100.805042202199)\n"
          ]
        }
      ]
    },
    {
      "cell_type": "code",
      "source": [
        "conn = sqlite3.connect('project_database.db')\n",
        "cursor = conn.cursor()\n",
        "\n",
        "#query the database to select the average Debt value and Open value for every year\n",
        "cursor.execute(\"SELECT p.Year, AVG(d.Value) AS AvgDebt, AVG(s.Open) AS AvgOpenNasdaq FROM population p LEFT JOIN debt_data d ON p.Year = d.Year LEFT JOIN stock_data s ON p.Year = s.Year GROUP BY p.Year ORDER BY p.Year;\")\n",
        "\n",
        "results = cursor.fetchall()\n",
        "for row in results:\n",
        "    print(row)\n",
        "# Close the connection\n",
        "conn.close()"
      ],
      "metadata": {
        "colab": {
          "base_uri": "https://localhost:8080/"
        },
        "id": "pC3DasYR-T0M",
        "outputId": "9cfecce9-455d-4627-ceac-3f6313e31052"
      },
      "execution_count": 167,
      "outputs": [
        {
          "output_type": "stream",
          "name": "stdout",
          "text": [
            "(2013, 95.5346882113219, 60.61093247588425)\n",
            "(2014, 95.7666986884038, 22.322322322322318)\n",
            "(2015, 96.4252279492666, 20.233224222585932)\n",
            "(2016, 98.5041017174837, 14.514207929215583)\n",
            "(2017, 97.6929363628875, 14.115898959881124)\n",
            "(2018, 99.0609761173397, 5.364583333333339)\n",
            "(2019, 100.805042202199, 32.27879387048937)\n",
            "(2020, 126.243300547564, 21.449925261584447)\n",
            "(2021, 120.36147560281, 60.769230769230774)\n"
          ]
        }
      ]
    },
    {
      "cell_type": "code",
      "source": [
        "conn = sqlite3.connect('project_database.db')\n",
        "cursor = conn.cursor()\n",
        "\n",
        "#Query the database for the average population, debt, open nasdaq value and the debt percent to nasdaq percent change ratio\n",
        "cursor.execute(\"SELECT p.Year, AVG(p.Population) AS AvgPopulation, AVG(d.Value) AS AvgDebt, AVG(s.Open) AS AvgOpenNasdaq, AVG(d.Value) / AVG(s.Open) AS DebtToNasdaqRatio FROM population p LEFT JOIN debt_data d ON p.Year = d.Year LEFT JOIN stock_data s ON p.Year = s.Year GROUP BY p.Year ORDER BY p.Year;\")\n",
        "\n",
        "results = cursor.fetchall()\n",
        "for row in results:\n",
        "    print(row)\n",
        "# Close the connection\n",
        "conn.close()"
      ],
      "metadata": {
        "colab": {
          "base_uri": "https://localhost:8080/"
        },
        "id": "Ft3oGmmS-9w7",
        "outputId": "794e1986-0b81-4f33-f152-e4f215ccd97f"
      },
      "execution_count": 168,
      "outputs": [
        {
          "output_type": "stream",
          "name": "stdout",
          "text": [
            "(2013, 311536594.0, 95.5346882113219, 60.61093247588425, 1.5761956516562923)\n",
            "(2014, 314107084.0, 95.7666986884038, 22.322322322322318, 4.2901763224087635)\n",
            "(2015, 316515021.0, 96.4252279492666, 20.233224222585932, 4.7656877069364505)\n",
            "(2016, 318558162.0, 98.5041017174837, 14.514207929215583, 6.786736293008814)\n",
            "(2017, 321004407.0, 97.6929363628875, 14.115898959881124, 6.920773281286664)\n",
            "(2018, 322903030.0, 99.0609761173397, 5.364583333333339, 18.465735353911846)\n",
            "(2019, 324697795.0, 100.805042202199, 32.27879387048937, 3.122949469755721)\n",
            "(2020, 326569308.0, 126.243300547564, 21.449925261584447, 5.8854890638550765)\n",
            "(2021, 329725481.0, 120.36147560281, 60.769230769230774, 1.9806318770082658)\n"
          ]
        }
      ]
    }
  ]
}